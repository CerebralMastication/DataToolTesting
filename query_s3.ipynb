{
 "cells": [
  {
   "cell_type": "markdown",
   "id": "939b2a84-8f8b-409f-85ff-e22cb25695cd",
   "metadata": {},
   "source": [
    "# Test DuckDB access of parquet files in S3 using Sagemaker\n",
    "\n",
    "going to query some parquet files in S3 using DuckDB and see how it performs\n",
    "\n",
    "Need to manually install some libraries on Sagemaker:"
   ]
  },
  {
   "cell_type": "code",
   "execution_count": null,
   "id": "07775544-ec41-45c1-8c53-44d1cd197a01",
   "metadata": {},
   "outputs": [],
   "source": [
    "%pip install awswrangler\n",
    "%pip install duckdb"
   ]
  },
  {
   "cell_type": "code",
   "execution_count": null,
   "id": "f8548259-e175-4d71-beea-74efb44e4bd8",
   "metadata": {},
   "outputs": [],
   "source": [
    "import duckdb\n",
    "import awswrangler as wr\n",
    "import boto3"
   ]
  },
  {
   "cell_type": "markdown",
   "id": "ef3a703c-6c9f-4b17-890e-6a0243386ace",
   "metadata": {},
   "source": [
    "real path and secrets all scrubbed "
   ]
  },
  {
   "cell_type": "code",
   "execution_count": null,
   "id": "7f3df531-5536-47b1-931b-a4cfe0db7b3a",
   "metadata": {},
   "outputs": [],
   "source": [
    "my_parquet_list = wr.s3.list_objects('s3://real_path_removed/df1/*.parquet')\n"
   ]
  },
  {
   "cell_type": "markdown",
   "id": "91402941-ddd8-4bc8-b3e0-7621595d43f2",
   "metadata": {},
   "source": [
    "Sagemaker default permissions are not able to read files written by my other account so I'm forcing key and tokens. "
   ]
  },
  {
   "cell_type": "code",
   "execution_count": null,
   "id": "cdf19cd6-73c6-4101-87d1-b275a997632c",
   "metadata": {},
   "outputs": [],
   "source": [
    "region_name=\"eu-west-1\"\n",
    "AWS_ACCESS_KEY_ID=\"xxx\"\n",
    "AWS_SECRET_ACCESS_KEY=\"xxx\"\n",
    "AWS_SESSION_TOKEN=\"xxx\""
   ]
  },
  {
   "cell_type": "code",
   "execution_count": null,
   "id": "9c0e856a-e805-4ffc-8755-90acf6f50da0",
   "metadata": {},
   "outputs": [],
   "source": [
    "con = duckdb.connect()\n",
    "con.execute('INSTALL httpfs;')\n",
    "\n",
    "set_settings = con.execute(f\"\"\"\n",
    "load httpfs;\n",
    "SET s3_region='eu-west-1';\n",
    "SET s3_access_key_id='{AWS_ACCESS_KEY_ID}';\n",
    "SET s3_secret_access_key='{AWS_SECRET_ACCESS_KEY}';\n",
    "SET s3_session_token='{AWS_SESSION_TOKEN}';            \n",
    "\"\"\")"
   ]
  },
  {
   "cell_type": "markdown",
   "id": "11996fa7-733f-48b1-9f41-e979f53e6675",
   "metadata": {},
   "source": [
    "The test is to read 101 files which is approx 165MB and 11.5m records. "
   ]
  },
  {
   "cell_type": "code",
   "execution_count": null,
   "id": "a0ab9efe-3211-4d0c-968c-226ac9337910",
   "metadata": {},
   "outputs": [],
   "source": [
    "%%timeit\n",
    "df = con.execute(f\"select sum(value) from parquet_scan({my_parquet_list[0:100]}) ;\").df()"
   ]
  },
  {
   "cell_type": "code",
   "execution_count": null,
   "id": "06f9bb6a-d2ff-48d4-8388-fe0f43c9004d",
   "metadata": {},
   "outputs": [],
   "source": []
  }
 ],
 "metadata": {
  "kernelspec": {
   "display_name": "analyst_py3_duck",
   "language": "python",
   "name": "analyst_py3_duck"
  },
  "language_info": {
   "codemirror_mode": {
    "name": "ipython",
    "version": 3
   },
   "file_extension": ".py",
   "mimetype": "text/x-python",
   "name": "python",
   "nbconvert_exporter": "python",
   "pygments_lexer": "ipython3",
   "version": "3.7.4"
  }
 },
 "nbformat": 4,
 "nbformat_minor": 5
}
